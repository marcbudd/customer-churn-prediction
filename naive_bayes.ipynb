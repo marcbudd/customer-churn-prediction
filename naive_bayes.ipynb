{
 "cells": [
  {
   "metadata": {},
   "cell_type": "markdown",
   "source": "Importieren der notwendigen Bibliotheken",
   "id": "2b69cf23e6906369"
  },
  {
   "cell_type": "code",
   "id": "initial_id",
   "metadata": {
    "collapsed": true,
    "ExecuteTime": {
     "end_time": "2024-07-08T09:58:08.233482Z",
     "start_time": "2024-07-08T09:58:06.640442Z"
    }
   },
   "source": [
    "import pandas as pd\n",
    "import numpy as np\n",
    "import matplotlib.pyplot as plt\n",
    "from sklearn.model_selection import cross_validate, StratifiedKFold\n",
    "from sklearn.metrics import make_scorer, accuracy_score, confusion_matrix, classification_report\n",
    "from sklearn.preprocessing import MinMaxScaler\n",
    "from imblearn.over_sampling import SMOTE\n",
    "from sklearn.naive_bayes import GaussianNB"
   ],
   "outputs": [],
   "execution_count": 2
  },
  {
   "metadata": {},
   "cell_type": "markdown",
   "source": "Laden und Vorbereiten der Daten",
   "id": "b007cadb67f4f9b0"
  },
  {
   "metadata": {
    "ExecuteTime": {
     "end_time": "2024-07-08T09:58:12.646718Z",
     "start_time": "2024-07-08T09:58:11.943727Z"
    }
   },
   "cell_type": "code",
   "source": [
    "df = pd.read_csv('data/churn_data_encoded.csv')\n",
    "df_test = pd.read_csv('data/churn_data.csv')\n",
    "\n",
    "print(len(df_test))\n",
    "print(len(df_test.dropna()))"
   ],
   "id": "bbc138fdba225a6b",
   "outputs": [
    {
     "name": "stdout",
     "output_type": "stream",
     "text": [
      "7043\n",
      "2493\n"
     ]
    }
   ],
   "execution_count": 3
  },
  {
   "metadata": {},
   "cell_type": "markdown",
   "source": "Evaluierungsfunktion",
   "id": "75a3668500108639"
  },
  {
   "metadata": {
    "ExecuteTime": {
     "end_time": "2024-07-08T09:58:16.383298Z",
     "start_time": "2024-07-08T09:58:16.377771Z"
    }
   },
   "cell_type": "code",
   "source": [
    "def custom_score(y_true, y_pred):\n",
    "    fp = np.sum((y_pred == 1) & (y_true == 0))\n",
    "    fn = np.sum((y_pred == 0) & (y_true == 1))\n",
    "    total = len(y_true)\n",
    "    score = (fp + 5 * fn) / total\n",
    "    return score\n",
    "\n",
    "def print_scores(scores):\n",
    "    scores_df = pd.DataFrame({\n",
    "        'Fold': np.arange(1, len(scores['test_accuracy']) + 1),\n",
    "        'Accuracy': scores['test_accuracy'],\n",
    "        'Precision': scores['test_precision'],\n",
    "        'Recall': scores['test_recall'],\n",
    "        'F1': scores['test_f1'],\n",
    "        'Custom Score': scores['test_custom_score'],\n",
    "    })\n",
    "    print(\"Scores:\\n\", scores_df)\n",
    "\n",
    "    metrics = ['accuracy', 'precision', 'recall', 'f1', 'custom_score']\n",
    "    statistics = pd.DataFrame(index=metrics, columns=['Min', 'Mean', 'Max'])\n",
    "\n",
    "    for metric in metrics:\n",
    "        statistics.loc[metric, 'Min'] = scores['test_' + metric].min()\n",
    "        statistics.loc[metric, 'Mean'] = scores['test_' + metric].mean()\n",
    "        statistics.loc[metric, 'Max'] = scores['test_' + metric].max()\n",
    "    print(\"\\nStatistics:\\n\", statistics)\n",
    "\n",
    "def evaluate_classification(X, y, classifier):\n",
    "    custom_scorer = make_scorer(custom_score, greater_is_better=False)\n",
    "    cv = StratifiedKFold(shuffle=True, n_splits=5, random_state=42)\n",
    "\n",
    "    scores = cross_validate(\n",
    "        classifier,\n",
    "        X,\n",
    "        y,\n",
    "        cv=cv,\n",
    "        scoring={\n",
    "            'accuracy': 'accuracy',\n",
    "            'precision': 'precision',\n",
    "            'recall': 'recall',\n",
    "            'f1': 'f1',\n",
    "            'custom_score': custom_scorer,\n",
    "        }\n",
    "    )\n",
    "    print_scores(scores)\n",
    "    return scores"
   ],
   "id": "e0e4d5d7b10d5c17",
   "outputs": [],
   "execution_count": 4
  },
  {
   "metadata": {},
   "cell_type": "markdown",
   "source": "Trainieren und Evaluieren des Naive Bayes Modells",
   "id": "7ec0a2bcf0e7a4f2"
  },
  {
   "metadata": {
    "ExecuteTime": {
     "end_time": "2024-07-08T09:58:20.379610Z",
     "start_time": "2024-07-08T09:58:19.521599Z"
    }
   },
   "cell_type": "code",
   "source": [
    "X = df.drop('Churn', axis=1)\n",
    "y = df['Churn']\n",
    "\n",
    "clf = GaussianNB()\n",
    "scores = evaluate_classification(X, y, clf)"
   ],
   "id": "99c5e0f30e441a9a",
   "outputs": [
    {
     "name": "stdout",
     "output_type": "stream",
     "text": [
      "Scores:\n",
      "    Fold  Accuracy  Precision    Recall        F1  Custom Score\n",
      "0     1  0.823279   0.618147  0.874332  0.724252     -0.310149\n",
      "1     2  0.809084   0.591944  0.903743  0.715344     -0.293116\n",
      "2     3  0.836764   0.635849  0.901070  0.745575     -0.268275\n",
      "3     4  0.810369   0.600000  0.852547  0.704319     -0.345881\n",
      "4     5  0.798295   0.581818  0.855615  0.692641     -0.355114\n",
      "\n",
      "Statistics:\n",
      "                    Min      Mean       Max\n",
      "accuracy      0.798295  0.815558  0.836764\n",
      "precision     0.581818  0.605552  0.635849\n",
      "recall        0.852547  0.877461  0.903743\n",
      "f1            0.692641  0.716426  0.745575\n",
      "custom_score -0.355114 -0.314507 -0.268275\n"
     ]
    }
   ],
   "execution_count": 5
  },
  {
   "metadata": {},
   "cell_type": "markdown",
   "source": "Balancieren der Klassen und Skalieren der Features",
   "id": "3204a5e938a552ab"
  },
  {
   "metadata": {
    "ExecuteTime": {
     "end_time": "2024-07-08T09:58:25.786540Z",
     "start_time": "2024-07-08T09:58:23.963408Z"
    }
   },
   "cell_type": "code",
   "source": [
    "# Balancieren der Klassen\n",
    "smote = SMOTE(random_state=42)\n",
    "X_resampled, y_resampled = smote.fit_resample(X, y)\n",
    "\n",
    "print(y_resampled.value_counts())\n",
    "\n",
    "# Skalieren der Features\n",
    "scaler = MinMaxScaler()\n",
    "X_resampled_scaled = scaler.fit_transform(X_resampled)\n",
    "\n",
    "# Trainieren und Evaluieren des Naive Bayes Modells nach Balancing\n",
    "clf = GaussianNB()\n",
    "scores = evaluate_classification(X_resampled_scaled, y_resampled, clf)"
   ],
   "id": "f5f10a88f1c20063",
   "outputs": [
    {
     "name": "stdout",
     "output_type": "stream",
     "text": [
      "Churn\n",
      "0    5174\n",
      "1    5174\n",
      "Name: count, dtype: int64\n",
      "Scores:\n",
      "    Fold  Accuracy  Precision    Recall        F1  Custom Score\n",
      "0     1  0.628019   0.573816  0.995169  0.727915     -0.381643\n",
      "1     2  0.615459   0.566278  0.986473  0.719521     -0.411594\n",
      "2     3  0.636232   0.579303  0.995169  0.732314     -0.373430\n",
      "3     4  0.638473   0.580974  0.992263  0.732857     -0.376994\n",
      "4     5  0.634123   0.578090  0.994203  0.731083     -0.377477\n",
      "\n",
      "Statistics:\n",
      "                    Min      Mean       Max\n",
      "accuracy      0.615459  0.630461  0.638473\n",
      "precision     0.566278  0.575692  0.580974\n",
      "recall        0.986473  0.992656  0.995169\n",
      "f1            0.719521  0.728738  0.732857\n",
      "custom_score -0.411594 -0.384227  -0.37343\n"
     ]
    }
   ],
   "execution_count": 6
  },
  {
   "metadata": {},
   "cell_type": "markdown",
   "source": "Klassifikation mit ausgewählten Features",
   "id": "7f544611f959a698"
  },
  {
   "metadata": {
    "ExecuteTime": {
     "end_time": "2024-07-08T09:58:47.844101Z",
     "start_time": "2024-07-08T09:58:31.943282Z"
    }
   },
   "cell_type": "code",
   "source": [
    "# Sortieren der Korrelationen\n",
    "correlations = df.corr()\n",
    "sorted_corrs = correlations['Churn'].abs().sort_values(ascending=False).drop('Churn')\n",
    "print(sorted_corrs)\n",
    "\n",
    "# Features nacheinander hinzufügen und evaluieren\n",
    "selected_features = []\n",
    "for feature in sorted_corrs.index:\n",
    "    selected_features.append(feature)\n",
    "    if len(selected_features) == 1:\n",
    "        continue\n",
    "\n",
    "    X_temp = X_resampled_scaled[:, df.columns.get_loc(feature)]\n",
    "    clf = GaussianNB()\n",
    "    scores = evaluate_classification(X_temp.reshape(-1, 1), y_resampled, clf)\n",
    "\n",
    "    if len(selected_features) == 10:\n",
    "        break"
   ],
   "id": "d2569a8d60fddbc6",
   "outputs": [
    {
     "name": "stdout",
     "output_type": "stream",
     "text": [
      "Satisfaction Score            0.754649\n",
      "Contract_Month-to-Month       0.448427\n",
      "Tenure in Months              0.352861\n",
      "Contract_Two Year             0.328195\n",
      "Number of Referrals           0.286540\n",
      "                                ...   \n",
      "City_Sequoia National Park    0.000830\n",
      "City_Wasco                    0.000830\n",
      "City_Visalia                  0.000659\n",
      "City_Los Angeles              0.000397\n",
      "City_Ontario                  0.000136\n",
      "Name: Churn, Length: 1155, dtype: float64\n",
      "Scores:\n",
      "    Fold  Accuracy  Precision    Recall        F1  Custom Score\n",
      "0     1  0.571014   0.544144  0.875362  0.671111     -0.678261\n",
      "1     2  0.577295   0.548960  0.866667  0.672162     -0.689372\n",
      "2     3  0.570531   0.543349  0.884058  0.673042     -0.661353\n",
      "3     4  0.555341   0.534545  0.852998  0.657228     -0.738521\n",
      "4     5  0.574190   0.546163  0.880193  0.674066     -0.665539\n",
      "\n",
      "Statistics:\n",
      "                    Min      Mean       Max\n",
      "accuracy      0.555341  0.569674  0.577295\n",
      "precision     0.534545  0.543432   0.54896\n",
      "recall        0.852998  0.871856  0.884058\n",
      "f1            0.657228  0.669522  0.674066\n",
      "custom_score -0.738521 -0.686609 -0.661353\n",
      "Scores:\n",
      "    Fold  Accuracy  Precision    Recall        F1  Custom Score\n",
      "0     1  0.512560   0.550388  0.137198  0.219644     -2.213043\n",
      "1     2  0.520290   0.583333  0.142029  0.228438     -2.195652\n",
      "2     3  0.515459   0.566667  0.131401  0.213333     -2.221739\n",
      "3     4  0.530208   0.643519  0.134429  0.222400     -2.200097\n",
      "4     5  0.521508   0.584906  0.149758  0.238462     -2.179797\n",
      "\n",
      "Statistics:\n",
      "                    Min      Mean       Max\n",
      "accuracy       0.51256  0.520005  0.530208\n",
      "precision     0.550388  0.585762  0.643519\n",
      "recall        0.131401  0.138963  0.149758\n",
      "f1            0.213333  0.224455  0.238462\n",
      "custom_score -2.221739 -2.202066 -2.179797\n",
      "Scores:\n",
      "    Fold  Accuracy  Precision    Recall        F1  Custom Score\n",
      "0     1  0.672947   0.625350  0.862802  0.725132     -0.601449\n",
      "1     2  0.683575   0.637085  0.853140  0.729451     -0.610145\n",
      "2     3  0.682609   0.635581  0.856039  0.729518     -0.605314\n",
      "3     4  0.652006   0.613603  0.820116  0.701987     -0.707588\n",
      "4     5  0.677622   0.634503  0.838647  0.722430     -0.645239\n",
      "\n",
      "Statistics:\n",
      "                    Min      Mean       Max\n",
      "accuracy      0.652006  0.673752  0.683575\n",
      "precision     0.613603  0.629225  0.637085\n",
      "recall        0.820116  0.846149  0.862802\n",
      "f1            0.701987  0.721704  0.729518\n",
      "custom_score -0.707588 -0.633947 -0.601449\n",
      "Scores:\n",
      "    Fold  Accuracy  Precision    Recall        F1  Custom Score\n",
      "0     1  0.666667   0.637670  0.771981  0.698427     -0.789372\n",
      "1     2  0.661836   0.632202  0.773913  0.695917     -0.790338\n",
      "2     3  0.691787   0.661513  0.785507  0.718198     -0.737198\n",
      "3     4  0.668439   0.639871  0.769826  0.698859     -0.791687\n",
      "4     5  0.656839   0.626263  0.778744  0.694229     -0.785887\n",
      "\n",
      "Statistics:\n",
      "                    Min      Mean       Max\n",
      "accuracy      0.656839  0.669114  0.691787\n",
      "precision     0.626263  0.639504  0.661513\n",
      "recall        0.769826  0.775994  0.785507\n",
      "f1            0.694229  0.701126  0.718198\n",
      "custom_score -0.791687 -0.778896 -0.737198\n",
      "Scores:\n",
      "    Fold  Accuracy  Precision    Recall        F1  Custom Score\n",
      "0     1  0.786957   0.720326  0.938164  0.814939     -0.336715\n",
      "1     2  0.779710   0.711778  0.940097  0.810158     -0.340097\n",
      "2     3  0.776329   0.709064  0.937198  0.807324     -0.349275\n",
      "3     4  0.779604   0.715350  0.928433  0.808081     -0.363461\n",
      "4     5  0.770420   0.704678  0.931401  0.802330     -0.366844\n",
      "\n",
      "Statistics:\n",
      "                    Min      Mean       Max\n",
      "accuracy       0.77042  0.778604  0.786957\n",
      "precision     0.704678  0.712239  0.720326\n",
      "recall        0.928433  0.935059  0.940097\n",
      "f1             0.80233  0.808567  0.814939\n",
      "custom_score -0.366844 -0.351278 -0.336715\n",
      "Scores:\n",
      "    Fold  Accuracy  Precision    Recall        F1  Custom Score\n",
      "0     1  0.621739   0.573171  0.953623  0.715996     -0.471014\n",
      "1     2  0.616425   0.570181  0.945894  0.711483     -0.491787\n",
      "2     3  0.633816   0.581711  0.952657  0.722344     -0.460870\n",
      "3     4  0.619623   0.571018  0.960348  0.716192     -0.459642\n",
      "4     5  0.623006   0.574780  0.946860  0.715328     -0.483325\n",
      "\n",
      "Statistics:\n",
      "                    Min      Mean       Max\n",
      "accuracy      0.616425  0.622922  0.633816\n",
      "precision     0.570181  0.574172  0.581711\n",
      "recall        0.945894  0.951876  0.960348\n",
      "f1            0.711483  0.716269  0.722344\n",
      "custom_score -0.491787 -0.473328 -0.459642\n",
      "Scores:\n",
      "    Fold  Accuracy  Precision    Recall        F1  Custom Score\n",
      "0     1  0.628502   0.602151  0.757488  0.670946     -0.856522\n",
      "1     2  0.617874   0.594868  0.739130  0.659199     -0.903865\n",
      "2     3  0.621256   0.597211  0.744928  0.662941     -0.888889\n",
      "3     4  0.632673   0.607199  0.750484  0.671280     -0.866119\n",
      "4     5  0.634123   0.611557  0.736232  0.668128     -0.893668\n",
      "\n",
      "Statistics:\n",
      "                    Min      Mean       Max\n",
      "accuracy      0.617874  0.626886  0.634123\n",
      "precision     0.594868  0.602597  0.611557\n",
      "recall        0.736232  0.745652  0.757488\n",
      "f1            0.659199  0.666499   0.67128\n",
      "custom_score -0.903865 -0.881813 -0.856522\n",
      "Scores:\n",
      "    Fold  Accuracy  Precision    Recall        F1  Custom Score\n",
      "0     1  0.591304   0.566223  0.780676  0.656377     -0.847343\n",
      "1     2  0.582126   0.559192  0.775845  0.649939     -0.866184\n",
      "2     3  0.626087   0.593148  0.802899  0.682266     -0.768116\n",
      "3     4  0.601740   0.574257  0.785300  0.663399     -0.827453\n",
      "4     5  0.581924   0.557278  0.799034  0.656610     -0.820203\n",
      "\n",
      "Statistics:\n",
      "                    Min      Mean       Max\n",
      "accuracy      0.581924  0.596636  0.626087\n",
      "precision     0.557278   0.57002  0.593148\n",
      "recall        0.775845  0.788751  0.802899\n",
      "f1            0.649939  0.661718  0.682266\n",
      "custom_score -0.866184  -0.82586 -0.768116\n",
      "Scores:\n",
      "    Fold  Accuracy  Precision    Recall        F1  Custom Score\n",
      "0     1  0.945411        1.0  0.890821  0.942259     -0.272947\n",
      "1     2  0.941063        1.0  0.882126  0.937372     -0.294686\n",
      "2     3  0.946377        1.0  0.892754  0.943338     -0.268116\n",
      "3     4  0.933301        1.0  0.866538  0.928497     -0.333494\n",
      "4     5  0.945868        1.0  0.891787  0.942799     -0.270662\n",
      "\n",
      "Statistics:\n",
      "                    Min      Mean       Max\n",
      "accuracy      0.933301  0.942404  0.946377\n",
      "precision          1.0       1.0       1.0\n",
      "recall        0.866538  0.884805  0.892754\n",
      "f1            0.928497  0.938853  0.943338\n",
      "custom_score -0.333494 -0.287981 -0.268116\n"
     ]
    }
   ],
   "execution_count": 7
  },
  {
   "metadata": {},
   "cell_type": "markdown",
   "source": "Finales Training und Evaluierung",
   "id": "f81e1c4d4ae23e94"
  },
  {
   "metadata": {
    "ExecuteTime": {
     "end_time": "2024-07-08T09:59:39.906033Z",
     "start_time": "2024-07-08T09:59:39.870546Z"
    }
   },
   "cell_type": "code",
   "source": [
    "# Finale Modelltraining und Evaluierung mit besten Features\n",
    "selected_features = sorted_corrs[:6].index.to_list()\n",
    "X_resampled, y_resampled = smote.fit_resample(X[selected_features], y)\n",
    "X_resampled_scaled = scaler.fit_transform(X_resampled)\n",
    "\n",
    "model = GaussianNB()\n",
    "model.fit(X_resampled_scaled, y_resampled)\n",
    "y_pred = model.predict(X_resampled_scaled)\n",
    "\n",
    "result = classification_report(y_resampled, y_pred)\n",
    "print(result)\n",
    "\n",
    "conf_matrix = confusion_matrix(y_resampled, y_pred)\n",
    "print(conf_matrix)\n",
    "conf_matrix_rel = conf_matrix.astype('float') / conf_matrix.sum(axis=1)[:, np.newaxis]\n",
    "print(conf_matrix_rel)\n",
    "\n",
    "fp = conf_matrix[0, 1]\n",
    "fn = conf_matrix[1, 0]\n",
    "cost = fp + 5 * fn\n",
    "print(\"Cost: \", cost)\n",
    "\n",
    "import joblib\n",
    "joblib.dump(model, 'models/naive_bayes_model.pkl')"
   ],
   "id": "24512354cac9521f",
   "outputs": [
    {
     "name": "stdout",
     "output_type": "stream",
     "text": [
      "              precision    recall  f1-score   support\n",
      "\n",
      "           0       0.94      0.83      0.88      5174\n",
      "           1       0.85      0.95      0.89      5174\n",
      "\n",
      "    accuracy                           0.89     10348\n",
      "   macro avg       0.89      0.89      0.89     10348\n",
      "weighted avg       0.89      0.89      0.89     10348\n",
      "\n",
      "[[4278  896]\n",
      " [ 282 4892]]\n",
      "[[0.82682644 0.17317356]\n",
      " [0.05450329 0.94549671]]\n",
      "Cost:  2306\n"
     ]
    },
    {
     "data": {
      "text/plain": [
       "['models/naive_bayes_model.pkl']"
      ]
     },
     "execution_count": 9,
     "metadata": {},
     "output_type": "execute_result"
    }
   ],
   "execution_count": 9
  },
  {
   "metadata": {},
   "cell_type": "code",
   "outputs": [],
   "execution_count": null,
   "source": "",
   "id": "323b3dc2b3fed239"
  }
 ],
 "metadata": {
  "kernelspec": {
   "display_name": "Python 3",
   "language": "python",
   "name": "python3"
  },
  "language_info": {
   "codemirror_mode": {
    "name": "ipython",
    "version": 2
   },
   "file_extension": ".py",
   "mimetype": "text/x-python",
   "name": "python",
   "nbconvert_exporter": "python",
   "pygments_lexer": "ipython2",
   "version": "2.7.6"
  }
 },
 "nbformat": 4,
 "nbformat_minor": 5
}
